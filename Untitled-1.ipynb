{
 "cells": [
  {
   "cell_type": "code",
   "execution_count": null,
   "metadata": {},
   "outputs": [
    {
     "data": {
      "text/plain": [
       "[(5, 4, 5), (5, 4, 5), (5, 4, 5)]\n"
      ]
     },
     "metadata": {},
     "output_type": "display_data"
    }
   ],
   "source": [
    "nos = [1 ,2 ,3 ,4 ,5 ,6 ]\n",
    "arestas = [(5, 4, 5), (5, 3, 10), (5, 6, 4), (4, 3, 2), (4, 1, 2)\n",
    "           , (6, 4, 1), (6, 1, 5), (3, 1, 1), (3, 2, 3), (1, 2, 2)]\n",
    "\n",
    "def obter_arestas(arestas, ultimo_rotulo):\n",
    "    index = 0\n",
    "    arestas_sep = []\n",
    "    for u, v, distancia in arestas:\n",
    "        if (u == ultimo_rotulo):\n",
    "            arestas_sep.append(arestas[index])\n",
    "        else:\n",
    "            index += 1\n",
    "    return arestas_sep\n",
    "\n",
    "print(obter_arestas(arestas, 5))\n"
   ]
  },
  {
   "cell_type": "code",
   "execution_count": null,
   "metadata": {},
   "outputs": [],
   "source": []
  }
 ],
 "metadata": {
  "language_info": {
   "name": "python"
  }
 },
 "nbformat": 4,
 "nbformat_minor": 2
}
